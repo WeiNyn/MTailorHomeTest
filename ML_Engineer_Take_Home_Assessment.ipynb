{
  "cells": [
    {
      "cell_type": "markdown",
      "metadata": {
        "id": "5Vu93d2olS3m"
      },
      "source": [
        "# Design and Train an object detector to detect objects\n",
        "\n",
        "You have to design and implement a Training Pipeline that can train, test and visualize the model using the dataset provided.\n",
        "\n",
        "## Assignment Protocols\n",
        "\n",
        "- We expect it to take ~4 hours, with an extra 15 min for clear loom explanation(s)\n",
        "  - The assessment is timeboxed at 5 hours total in a single block. So please plan accordingly\n",
        "- You need to use Google Collaboratory to run and edit this notebook\n",
        "- You can only use Python as a programming Language\n",
        "- You cannot take help from any other person\n",
        "- You can use Google to search for references\n",
        "- You can not search on google for design-related things, like what should be loss function, or what should be model architecture.\n",
        "  - But you can use pre-trained backbones from PyTorch\n",
        "- Record a 5-10 mins of code walkthrough of the work you have done. You can use Loom Platform (https://www.loom.com) to record the video.\n",
        "  - Design Decisions\n",
        "    - Model Design which layers and activation functions you used and why\n",
        "    - Loss function, which loss functions you used and why\n",
        "    - Metrics, which metrics and why\n",
        "  - Any optimizations you have made to the codebase\n",
        "  - How you implemented resume functionality, what were the things you thought would be needed to resume training from exact same point\n",
        "  - Explain what parts of the assessment are completed and what is missing?\n",
        "  - Make sure to submit the screen recording link in the submission after you are done recording\n",
        "  - Please note that the free plan on Loom only allows for videos up to 5 minutes in length. As such, you may need to record two separate 5-minute videos.\n",
        "- [NO SUBMISSION WILL BE ACCEPTED WITHOUT]\n",
        "  - Trained best model weights\n",
        "  - Visualize Function in the Notebook\n",
        "  - Code Walk-through video\n",
        "\n",
        "## Task Details\n",
        "Design a Training Pipeline to train a object detector with following specs or assumptions:\n",
        "- Implement & Design Model\n",
        "  - You can use any backbone\n",
        "    - Either from PyTorch (torhvision) or any resource online\n",
        "    - But you need to design head your self (head means how you will use features of the back bone and get the desired outputs)\n",
        "  - Model needs to detect one object in each image\n",
        "  - Model should output following for each image passed as input:\n",
        "    - Whether we have an object or not\n",
        "    - Where is the object?\n",
        "      - The bounding box output format should be xmin, ymin, xmax, ymax\n",
        "      - It is not necessary the model is trained to output exactly this format but the visualize function which shows output should output in this format\n",
        "    - Either the object is a cat or dog?\n",
        "    - And which specie the object belongs to? There are in total 9 species: \n",
        "      - Cat [3 species]:\n",
        "        - Abyssinian\n",
        "        - Birman\n",
        "        - Persian\n",
        "      - Dog [6 species]\n",
        "        - american_bulldog\n",
        "        - american_pit_bull_terrier\n",
        "        - basset_hound\n",
        "        - beagle\n",
        "        - chihuahua\n",
        "        - pomeranian\n",
        "- Implement Custom Dataloader\n",
        "  - This is obvious as dataset is in a unique format any predifined dataloader wont work\n",
        "  - Follow best practices of writing custom dataloaders\n",
        "  - Details of the format of the dataset are defined in the Dataset Details section below\n",
        "  - Add needed pre-processing that you think would help train a better model or would help as we are using pre-trained weights as starting point\n",
        "  - Add augmentations that you think would help train a better model\n",
        "- Implement Loss Function\n",
        "  - Design and implement a loss function that can handle all of the outputs we have\n",
        "  - You can use pytorch built-in loss functions\n",
        "  - There are many scenarios which you need to handle, which one can understand from the dataset details and the model design\n",
        "- Implement Test Function\n",
        "  - The test function should be able to run the model on the validation set and output the metrics for all the outputs of the model\n",
        "  - Select the metrics carefully, there are many scenarios which can change the selection of a metric\n",
        "  - Keep in mind there are multiple outputs, you would need a metric for each output\n",
        "  - [NOTE] You don't need to implement metrics for the bounding box output as it can take more time than provided for this assessment. But please add details of the metrics you would have implemented in your code-walk through loom video.\n",
        "- Update Resume Training Functionality using the best weights\n",
        "  - Current script does not have save best weights functionality\n",
        "  - The code should be able to resume training from exactly same point from where the training was stopped if model weights file is passed\n",
        "  - Keep in mind you can not resume training from same point by just loading weights of the model\n",
        "- Implement a visualize function [Most important, without this no submission will be accepted]\n",
        "  - The input of the function should be path of a folder with images and the weight file\n",
        "    - Also the output folder path to save outputs\n",
        "  - This function should return a dictionary of dictionaries with following details for each image:\n",
        "    - {\n",
        "        \"has_object\": True,\n",
        "        \"cat_or_dog\": \"cat\",\n",
        "        \"specie\": \"persian\",\n",
        "        \"xmin\": 10,\n",
        "        \"ymin\": 10,\n",
        "        \"xmax\": 10,\n",
        "        \"ymax\": 10\n",
        "    }\n",
        "  - And in case there is no object it should have 0 for bbox values, \"NA\" for \"cat_or_dog\" and \"specie\", and False for \"has_object\".\n",
        "  - Values of the returned dictionary should be like explained above and keys should be image names including the extension \".jpg\" or \".jpeg\"\n",
        "  - Should save output image with bounding box drawn on it, with same name input image but place in the output folder \n",
        "- Try to train the best model\n",
        "\n",
        "\n",
        "## Dataset Details\n",
        "The dataset has in total 1041 images. Each image has a single object which is either a cat or a dog.\n",
        "- There are multiple species for both cat and dog.\n",
        "- The number of images falling in each specie is as follows:\n",
        "  - basset_hound: 93\n",
        "  - Birman: 93\n",
        "  - pomeranian: 93\n",
        "  - american_pit_bull_terrier: 93\n",
        "  - american_bulldog: 93\n",
        "  - Abyssinian: 92\n",
        "  - beagle: 93\n",
        "  - Persian: 93\n",
        "  - chihuahua: 93\n",
        "  - empty: 142\n",
        "- The dataset has two folders:\n",
        "  - images\n",
        "    - Inside images folder we have 986 images in .jpg folder\n",
        "  - labels\n",
        "    - Inside labels folder we have 899 .xml files each file with details of image labels\n",
        "    - For any image that does not have a cat or dog, there is no corresponding xml file\n",
        "\n",
        "## Deliverable\n",
        "- Updated Colab Based Jupyter Notebook:\n",
        "  - With all the required functionality Implemented\n",
        "  - Which one can train the model without any errors\n",
        "  - One should achieve same metrics (Almost same metrics) if I run training using this collab notebook\n",
        "    - Set default values for everything accordingly in the notebook\n",
        "  - During evaluation we will just run the notebook and use the best weights the notebook saves automatically\n",
        "- Best weights you have trained\n",
        "  - We will Evaluate your weights against hold-out test we have and compare results\n",
        "  - We will use visualize function to generate outputs for each image\n",
        "  - Upload weights in an easily downloadable location like, Dropbox, Google Drive, Github, etc\n",
        "- A video code-walk through explaining your design decisions including but not limited to:\n",
        "  - Model Design which layers and activation functions you used and why\n",
        "  - Loss function, which loss functions you used and why\n",
        "  - Metrics, which metrics and why\n",
        "  - Any optimizations you have made to the codebase\n",
        "  - How you implemented resume functionality, what were the things you thought would be needed to resume training from exact same point\n",
        "\n",
        "\n",
        "## Evaluation Criteria\n",
        " - Design Decisions\n",
        " - Completeness: Did you include all features?\n",
        " - Correctness: Does the solution (all deliverables) work in sensible, thought-out ways?\n",
        " - Maintainability: Is the code written in a clean, maintainable way?\n",
        " - Testing: Is the solution adequately tested?\n",
        " - Documentation: Is the codebase well-documented and has proper steps to run any of the deliverables?\n",
        "\n",
        "## Extra Points\n",
        "- Add metrics for the Bounding Box Output\n",
        "- Any Updates in the notebook (Bugs/Implementation Mistakes etc)\n",
        "\n",
        "## How to submit\n",
        "- Please upload the Notebook for this project to GitHub, and post a link to your repository below [repo link box, on the left of submit button].\n",
        "  - Create a new GitHub repository from scratch\n",
        "  - Add the final Colab/Jupyter notebook to the repository\n",
        "- Please upload video and your final best weights on Google Drive or any other platform, and paste the link to the folder with both video and model in the text box just above the submit button.\n",
        "- Please paste the commit Id of the latest commit of your Github Repo, which should not be later than 5 hours of time when the repo was created.\n",
        "  - Please note the submission without the commit id will not be considered."
      ]
    },
    {
      "cell_type": "markdown",
      "metadata": {
        "id": "KE_rGh4kod4n"
      },
      "source": [
        "# Install Required Modules"
      ]
    },
    {
      "cell_type": "code",
      "execution_count": 2,
      "metadata": {
        "id": "magQ0ErkoOIR",
        "colab": {
          "base_uri": "https://localhost:8080/"
        },
        "outputId": "f6b3295d-5839-47b7-9558-776e507ee5a9"
      },
      "outputs": [
        {
          "output_type": "stream",
          "name": "stdout",
          "text": [
            "Looking in indexes: https://pypi.org/simple, https://us-python.pkg.dev/colab-wheels/public/simple/\n",
            "Collecting bs4\n",
            "  Downloading bs4-0.0.1.tar.gz (1.1 kB)\n",
            "  Preparing metadata (setup.py) ... \u001b[?25l\u001b[?25hdone\n",
            "Requirement already satisfied: lxml in /usr/local/lib/python3.10/dist-packages (4.9.2)\n",
            "Requirement already satisfied: kaggle in /usr/local/lib/python3.10/dist-packages (1.5.13)\n",
            "Requirement already satisfied: beautifulsoup4 in /usr/local/lib/python3.10/dist-packages (from bs4) (4.11.2)\n",
            "Requirement already satisfied: six>=1.10 in /usr/local/lib/python3.10/dist-packages (from kaggle) (1.16.0)\n",
            "Requirement already satisfied: certifi in /usr/local/lib/python3.10/dist-packages (from kaggle) (2022.12.7)\n",
            "Requirement already satisfied: python-dateutil in /usr/local/lib/python3.10/dist-packages (from kaggle) (2.8.2)\n",
            "Requirement already satisfied: requests in /usr/local/lib/python3.10/dist-packages (from kaggle) (2.27.1)\n",
            "Requirement already satisfied: tqdm in /usr/local/lib/python3.10/dist-packages (from kaggle) (4.65.0)\n",
            "Requirement already satisfied: python-slugify in /usr/local/lib/python3.10/dist-packages (from kaggle) (8.0.1)\n",
            "Requirement already satisfied: urllib3 in /usr/local/lib/python3.10/dist-packages (from kaggle) (1.26.15)\n",
            "Requirement already satisfied: soupsieve>1.2 in /usr/local/lib/python3.10/dist-packages (from beautifulsoup4->bs4) (2.4.1)\n",
            "Requirement already satisfied: text-unidecode>=1.3 in /usr/local/lib/python3.10/dist-packages (from python-slugify->kaggle) (1.3)\n",
            "Requirement already satisfied: charset-normalizer~=2.0.0 in /usr/local/lib/python3.10/dist-packages (from requests->kaggle) (2.0.12)\n",
            "Requirement already satisfied: idna<4,>=2.5 in /usr/local/lib/python3.10/dist-packages (from requests->kaggle) (3.4)\n",
            "Building wheels for collected packages: bs4\n",
            "  Building wheel for bs4 (setup.py) ... \u001b[?25l\u001b[?25hdone\n",
            "  Created wheel for bs4: filename=bs4-0.0.1-py3-none-any.whl size=1257 sha256=c54c1908bc3a58537c543a80241e324ed49673f9990a00c1580745d4d5cd05e1\n",
            "  Stored in directory: /root/.cache/pip/wheels/25/42/45/b773edc52acb16cd2db4cf1a0b47117e2f69bb4eb300ed0e70\n",
            "Successfully built bs4\n",
            "Installing collected packages: bs4\n",
            "Successfully installed bs4-0.0.1\n"
          ]
        }
      ],
      "source": [
        "! pip install bs4 lxml kaggle"
      ]
    },
    {
      "cell_type": "markdown",
      "metadata": {
        "id": "Bw3F4t1eaLl6"
      },
      "source": [
        "# Download Dataset from Kaggle"
      ]
    },
    {
      "cell_type": "code",
      "execution_count": 1,
      "metadata": {
        "id": "59RSpyzRaOVj"
      },
      "outputs": [],
      "source": [
        "import os\n",
        "os.environ['KAGGLE_USERNAME'] = 'bilalyousaf0014'\n",
        "os.environ['KAGGLE_KEY'] = '11031bc21c5e3ec23585dbe17dc4267d'"
      ]
    },
    {
      "cell_type": "code",
      "execution_count": 2,
      "metadata": {
        "id": "plZEhi_oaPPn",
        "colab": {
          "base_uri": "https://localhost:8080/"
        },
        "outputId": "5fba9ee5-2077-42e2-b5bc-88a3118034ed"
      },
      "outputs": [
        {
          "output_type": "stream",
          "name": "stdout",
          "text": [
            "ml-engineer-assessment-dataset.zip: Skipping, found more recently modified local copy (use --force to force download)\n"
          ]
        }
      ],
      "source": [
        "!kaggle datasets download -d bilalyousaf0014/ml-engineer-assessment-dataset"
      ]
    },
    {
      "cell_type": "code",
      "execution_count": 3,
      "metadata": {
        "id": "d6jkCK0uaxRT"
      },
      "outputs": [],
      "source": [
        "! unzip /content/ml-engineer-assessment-dataset.zip"
      ]
    },
    {
      "cell_type": "markdown",
      "metadata": {
        "id": "PMEbUqsPl9s4"
      },
      "source": [
        "# MODEL IMPLEMENTATION:"
      ]
    },
    {
      "cell_type": "code",
      "execution_count": 1,
      "metadata": {
        "id": "uXb6eKgFmNzx"
      },
      "outputs": [],
      "source": [
        "import os\n",
        "import torch\n",
        "import torch.nn as nn\n",
        "import numpy as np\n",
        "from torchvision.models.detection import fasterrcnn_resnet50_fpn\n",
        "from torchvision.models.detection import fasterrcnn_resnet50_fpn\n",
        "from torchvision.models.detection.faster_rcnn import FastRCNNPredictor\n",
        "from torchvision.models import resnet18, ResNet18_Weights"
      ]
    },
    {
      "cell_type": "code",
      "source": [
        "import torch\n",
        "from torchvision.ops import nms\n",
        "\n",
        "class Model(nn.Module):\n",
        "    def __init__(self, num_classes):\n",
        "        super(Model, self).__init__()\n",
        "        self.num_classes = num_classes\n",
        "        self.model = fasterrcnn_resnet50_fpn(pretrained=True)\n",
        "        \n",
        "        # Replace the classification and bounding box regression heads\n",
        "        in_features = self.model.roi_heads.box_predictor.cls_score.in_features\n",
        "        box_predictor = FastRCNNPredictor(in_features, self.num_classes + 1)  # Add 1 for background class\n",
        "        self.model.roi_heads.box_predictor = box_predictor\n",
        "\n",
        "    def forward(self, images, targets=None):\n",
        "        if self.training and targets is None:\n",
        "            raise ValueError(\"In training mode, targets should be passed to the model.\")\n",
        "        \n",
        "        if targets is not None:\n",
        "          targets = [\n",
        "              dict(\n",
        "                  boxes=targets[\"boxes\"][i].cuda(),\n",
        "                  labels=targets[\"labels\"][i].cuda(),\n",
        "                  image_id=targets[\"image_id\"][i].cuda(),\n",
        "                  area=targets[\"area\"][i].cuda(),\n",
        "                  iscrowd=targets[\"iscrowd\"][i].cuda()\n",
        "              ) for i in range(images.shape[0])\n",
        "          ]\n",
        "\n",
        "        # Get the model outputs\n",
        "        outputs = self.model(images, targets)\n",
        "\n",
        "        if not self.training:\n",
        "            # Apply non-maximum suppression (NMS) to the predicted bounding boxes\n",
        "            for i in range(len(outputs)):\n",
        "                boxes = outputs[i]['boxes']\n",
        "                scores = outputs[i]['scores']\n",
        "                labels = outputs[i]['labels']\n",
        "\n",
        "                # Apply NMS\n",
        "                keep = nms(boxes, scores, iou_threshold=0.5)\n",
        "\n",
        "                # Keep only the highest scoring predictions after NMS\n",
        "                outputs[i]['boxes'] = boxes[keep]\n",
        "                outputs[i]['scores'] = scores[keep]\n",
        "                outputs[i]['labels'] = labels[keep]\n",
        "\n",
        "        return outputs\n",
        "\n",
        "# Create an instance of the Model\n",
        "num_classes = 9  # Number of object classes + 1 for background class\n",
        "model = Model(num_classes)"
      ],
      "metadata": {
        "colab": {
          "base_uri": "https://localhost:8080/"
        },
        "id": "SN7OP0Ofi53o",
        "outputId": "3042cc6e-5975-4134-98ae-2a2c5a66771d"
      },
      "execution_count": 2,
      "outputs": [
        {
          "output_type": "stream",
          "name": "stderr",
          "text": [
            "/usr/local/lib/python3.10/dist-packages/torchvision/models/_utils.py:208: UserWarning: The parameter 'pretrained' is deprecated since 0.13 and may be removed in the future, please use 'weights' instead.\n",
            "  warnings.warn(\n",
            "/usr/local/lib/python3.10/dist-packages/torchvision/models/_utils.py:223: UserWarning: Arguments other than a weight enum or `None` for 'weights' are deprecated since 0.13 and may be removed in the future. The current behavior is equivalent to passing `weights=FasterRCNN_ResNet50_FPN_Weights.COCO_V1`. You can also use `weights=FasterRCNN_ResNet50_FPN_Weights.DEFAULT` to get the most up-to-date weights.\n",
            "  warnings.warn(msg)\n"
          ]
        }
      ]
    },
    {
      "cell_type": "markdown",
      "metadata": {
        "id": "avxCQ2W-oGxV"
      },
      "source": [
        "# CUSTOM DATALOADER IMPLEMENTATION"
      ]
    },
    {
      "cell_type": "code",
      "execution_count": 3,
      "metadata": {
        "id": "ZNds6zOg8w5A"
      },
      "outputs": [],
      "source": [
        "train_list = np.load('/content/assessment_dataset/train_list.npy', allow_pickle=True).tolist()\n",
        "val_list = np.load('/content/assessment_dataset/val_list.npy', allow_pickle=True).tolist()"
      ]
    },
    {
      "cell_type": "code",
      "execution_count": 4,
      "metadata": {
        "id": "E30zu6ICmKOL"
      },
      "outputs": [],
      "source": [
        "from bs4 import BeautifulSoup\n",
        "\n",
        "def read_xml_file(path):\n",
        "  if not os.path.exists(path):\n",
        "    return None\n",
        "\n",
        "  with open(path, 'r') as f:\n",
        "      data = f.read()\n",
        "  bs_data = BeautifulSoup(data, 'xml')\n",
        "  width = float(bs_data.find(\"width\").text)\n",
        "  height = float(bs_data.find(\"height\").text)\n",
        "  return {\n",
        "      \"cat_or_dog\": bs_data.find(\"name\").text,\n",
        "      \"xmin\": float(bs_data.find(\"xmin\").text)/width,\n",
        "      \"ymin\": float(bs_data.find(\"ymin\").text)/height,\n",
        "      \"xmax\": float(bs_data.find(\"xmax\").text)/width,\n",
        "      \"ymax\": float(bs_data.find(\"ymax\").text)/height,\n",
        "      \"specie\": \"_\".join(path.split(os.sep)[-1].split(\"_\")[:-1])\n",
        "  }"
      ]
    },
    {
      "cell_type": "code",
      "source": [
        "from PIL import Image\n",
        "import os\n",
        "import torch\n",
        "import torchvision.transforms as transforms\n",
        "\n",
        "species = [\n",
        "\"background\",    \n",
        "\"basset_hound\", \"Birman\",\n",
        "\"pomeranian\",\n",
        "\"american_pit_bull_terrier\",\n",
        "\"american_bulldog\",\n",
        "\"Abyssinian\",\n",
        "\"beagle\",\n",
        "\"Persian\",\n",
        "\"chihuahua\"] \n",
        "\n",
        "class CustomDataset(torch.utils.data.Dataset):\n",
        "    def __init__(self, dataset_path, images_list, species = species, train=False):\n",
        "        self.preprocess = transforms.Compose([\n",
        "            # Add any desired image preprocessing transformations here\n",
        "            transforms.Resize((256, 256)),\n",
        "            transforms.ToTensor()\n",
        "        ])\n",
        "\n",
        "        self.image_folder_path = os.path.join(dataset_path, \"images\")\n",
        "        self.label_folder_path = os.path.join(dataset_path, \"labels\")\n",
        "        self.images_list = images_list\n",
        "\n",
        "        self.species = species\n",
        "\n",
        "        #Remove paths that not in images_list\n",
        "        self.path = [filename for filename in os.listdir(self.image_folder_path) if filename.split('.')[0] in images_list]\n",
        "\n",
        "    def __len__(self):\n",
        "        return len(self.path)\n",
        "\n",
        "    def __getitem__(self, index):\n",
        "        image_path = os.path.join(self.image_folder_path, self.path[index])\n",
        "        name = self.path[index].split(\".\")[0]\n",
        "\n",
        "        xml_path = os.path.join(self.label_folder_path, name + \".xml\")\n",
        "        xml_data = read_xml_file(xml_path)  # Implement your XML reading function\n",
        "\n",
        "        if xml_data is None:\n",
        "          labels = dict(\n",
        "              boxes=torch.as_tensor([[0, 0, 255, 255]], dtype=torch.float32),\n",
        "              labels=torch.as_tensor([0], dtype=torch.int64),\n",
        "              image_id=torch.tensor([index]),\n",
        "              area=0,\n",
        "              iscrowd=torch.as_tensor([0], dtype=torch.int64)\n",
        "          )\n",
        "\n",
        "        else:\n",
        "          xmin = int(xml_data[\"xmin\"] * 256)\n",
        "          xmax = int(xml_data[\"xmax\"] * 256)\n",
        "          ymin = int(xml_data[\"ymin\"] * 256)\n",
        "          ymax = int(xml_data[\"ymax\"] * 256)\n",
        "\n",
        "          boxes = [[xmin, ymin, xmax, ymax]]\n",
        "          boxes = torch.as_tensor(boxes, dtype=torch.float32)\n",
        "          l = [self.species.index(xml_data[\"specie\"])]\n",
        "          l = torch.as_tensor(l)\n",
        "\n",
        "          labels = dict(\n",
        "              boxes=boxes,\n",
        "              labels=l,\n",
        "              image_id=torch.tensor([index]),\n",
        "              area=abs(xmax - xmin) * abs(ymax - ymin),\n",
        "              iscrowd=torch.zeros((1,), dtype=torch.int64)\n",
        "          )\n",
        "\n",
        "        image = Image.open(image_path)\n",
        "        image = self.preprocess(image)\n",
        "\n",
        "\n",
        "\n",
        "        return image, labels"
      ],
      "metadata": {
        "id": "HKS1WcUqFt-E"
      },
      "execution_count": 5,
      "outputs": []
    },
    {
      "cell_type": "code",
      "source": [
        "ds = CustomDataset('/content/assessment_dataset', train_list)"
      ],
      "metadata": {
        "id": "RGF0d50UBsU5"
      },
      "execution_count": 6,
      "outputs": []
    },
    {
      "cell_type": "code",
      "source": [
        "ds[0]"
      ],
      "metadata": {
        "colab": {
          "base_uri": "https://localhost:8080/"
        },
        "id": "CoJ9hoAPOQoQ",
        "outputId": "00a14bc6-96d3-4f5d-d830-62e1777774f0"
      },
      "execution_count": 7,
      "outputs": [
        {
          "output_type": "execute_result",
          "data": {
            "text/plain": [
              "(tensor([[[1.0000, 1.0000, 1.0000,  ..., 1.0000, 1.0000, 1.0000],\n",
              "          [0.9961, 0.9961, 0.9922,  ..., 1.0000, 1.0000, 1.0000],\n",
              "          [0.9922, 0.9961, 0.9961,  ..., 1.0000, 0.9961, 0.9961],\n",
              "          ...,\n",
              "          [0.4627, 0.4627, 0.4667,  ..., 0.7020, 0.6510, 0.6235],\n",
              "          [0.4157, 0.4314, 0.4510,  ..., 0.6902, 0.6863, 0.6745],\n",
              "          [0.4000, 0.4039, 0.4196,  ..., 0.7294, 0.7059, 0.6510]],\n",
              " \n",
              "         [[0.9922, 0.9922, 0.9961,  ..., 1.0000, 1.0000, 1.0000],\n",
              "          [0.9922, 0.9922, 0.9922,  ..., 1.0000, 1.0000, 1.0000],\n",
              "          [1.0000, 1.0000, 1.0000,  ..., 1.0000, 0.9961, 0.9961],\n",
              "          ...,\n",
              "          [0.4157, 0.4157, 0.4157,  ..., 0.6353, 0.5843, 0.5569],\n",
              "          [0.3686, 0.3843, 0.4039,  ..., 0.6314, 0.6275, 0.6118],\n",
              "          [0.3529, 0.3569, 0.3725,  ..., 0.6706, 0.6471, 0.5922]],\n",
              " \n",
              "         [[0.9882, 0.9882, 0.9882,  ..., 1.0000, 1.0000, 1.0000],\n",
              "          [0.9922, 0.9922, 0.9922,  ..., 1.0000, 1.0000, 1.0000],\n",
              "          [1.0000, 1.0000, 1.0000,  ..., 1.0000, 0.9961, 0.9961],\n",
              "          ...,\n",
              "          [0.3529, 0.3529, 0.3529,  ..., 0.5725, 0.5216, 0.4941],\n",
              "          [0.3176, 0.3294, 0.3451,  ..., 0.5569, 0.5529, 0.5412],\n",
              "          [0.3059, 0.3020, 0.3176,  ..., 0.5961, 0.5725, 0.5176]]]),\n",
              " {'boxes': tensor([[ 61.,   3., 158., 119.]]),\n",
              "  'labels': tensor([3]),\n",
              "  'image_id': tensor([0]),\n",
              "  'area': 11252,\n",
              "  'iscrowd': tensor([0])})"
            ]
          },
          "metadata": {},
          "execution_count": 7
        }
      ]
    },
    {
      "cell_type": "code",
      "source": [
        "dataloader = torch.utils.data.DataLoader(ds, batch_size=4, shuffle=True)\n"
      ],
      "metadata": {
        "id": "FEY58spOGaVQ"
      },
      "execution_count": 8,
      "outputs": []
    },
    {
      "cell_type": "code",
      "source": [
        "images, labels = next(iter(dataloader))"
      ],
      "metadata": {
        "id": "2epaL1nygpPy"
      },
      "execution_count": 9,
      "outputs": []
    },
    {
      "cell_type": "markdown",
      "metadata": {
        "id": "hkbn3C3cqahY"
      },
      "source": [
        "# TRAINING LOOP IMPLEMENTATION"
      ]
    },
    {
      "cell_type": "markdown",
      "metadata": {
        "id": "SxODf-DLqmPA"
      },
      "source": [
        "## Initializations"
      ]
    },
    {
      "cell_type": "code",
      "execution_count": 10,
      "metadata": {
        "id": "Drkrrx8pqjzM"
      },
      "outputs": [],
      "source": [
        "from torch.utils.data import DataLoader\n",
        "import torchmetrics"
      ]
    },
    {
      "cell_type": "code",
      "execution_count": 10,
      "metadata": {
        "id": "1k8jvr7EqaPz"
      },
      "outputs": [],
      "source": [
        "# import our library\n",
        "# import torchmetrics\n",
        "\n",
        "def train(epochs, model_weights=None):\n",
        "\n",
        "  # Initialize Model and Optimizer\n",
        "  model = Model(9)\n",
        "  optimizer = torch.optim.SGD(model.parameters(), lr=0.001, momentum=0.9)\n",
        "\n",
        "  # Initialize Loss Functions\n",
        "  have_object_loss = None\n",
        "  specie_loss = None\n",
        "  cat_or_dog_loss = None\n",
        "  bbox_loss = None # Not necessary you need to apply function to all coordinates together, You can have separete loss functions for all coordinates too\n",
        "  # Below or Above\n",
        "  xmin_loss = None\n",
        "  ymin_loss = None\n",
        "  xmax_loss = None\n",
        "  ymax_loss = None\n",
        "\n",
        "  training_dataset = CustomDataset(\"/content/assessment_dataset\", images_list=train_list)\n",
        "  training_loader = torch.utils.data.DataLoader(training_dataset, batch_size=4, shuffle=True)\n",
        "\n",
        "  if torch.cuda.is_available():\n",
        "    model = model.cuda()\n",
        "\n",
        "  def train_one_epoch(epoch_index, tb_writer):\n",
        "      running_loss = 0.\n",
        "      last_loss = 0.\n",
        "\n",
        "      # Here, we use enumerate(training_loader) instead of\n",
        "      # iter(training_loader) so that we can track the batch\n",
        "      # index and do some intra-epoch reporting\n",
        "      for i, data in enumerate(training_loader):\n",
        "          # Every data instance is an input + label pair\n",
        "          model.train()\n",
        "          inputs, labels = data\n",
        "\n",
        "          if torch.cuda.is_available():\n",
        "                inputs = inputs.cuda()\n",
        "          #       labels = {key: value.cuda() for key, value in labels.items()}\n",
        "\n",
        "          # Make predictions for this batch\n",
        "          outputs = model(inputs, labels)\n",
        "\n",
        "\n",
        "          loss_classifier = outputs[\"loss_classifier\"]\n",
        "          loss_box_reg = outputs[\"loss_box_reg\"]\n",
        "          loss_objectness = outputs[\"loss_objectness\"]\n",
        "          loss_rpn_box_reg = outputs[\"loss_rpn_box_reg\"]\n",
        "\n",
        "          loss = loss_classifier + loss_box_reg + loss_objectness + loss_rpn_box_reg\n",
        "\n",
        "          # Backpropagation and optimization step\n",
        "          optimizer.zero_grad()\n",
        "          loss.backward()\n",
        "          optimizer.step()\n",
        "\n",
        "          # Gather data and report\n",
        "          running_loss += loss.item()\n",
        "          if i % 10 == 0:\n",
        "              last_loss = running_loss / 10 # loss per batch\n",
        "              running_loss = 0.\n",
        "      return last_loss\n",
        "\n",
        "  for i in range(epochs):\n",
        "\n",
        "    epoch_loss = train_one_epoch(i, None)\n",
        "    print(f' Epoch {i} Loss : {epoch_loss}')\n",
        "\n",
        "    torch.save(f=\"model.pth\", obj=model.state_dict())\n",
        "    metrics = test(model, val_list)\n",
        "    print(metrics)\n",
        "\n",
        "def test(model, val_list):\n",
        "    def post_process(outputs):\n",
        "      boxes = []\n",
        "      scores = []\n",
        "      labels = []\n",
        "\n",
        "      if len(outputs) == 0:\n",
        "          boxes.append(torch.tensor([0, 0, 0, 0])).cuda()\n",
        "          scores.append(torch.tensor(0)).cuda()\n",
        "          labels.append(torch.tensor(0)).cuda()\n",
        "\n",
        "      for output in outputs:\n",
        "          if len(output[\"boxes\"]) == 0:\n",
        "              box = torch.tensor([0, 0, 0, 0]).cuda()\n",
        "              score = torch.tensor(0).cuda()\n",
        "              label = torch.tensor(0).cuda()\n",
        "          else:\n",
        "              box = output[\"boxes\"][0].cuda()\n",
        "              label = output[\"labels\"][0].cuda()\n",
        "              if \"scores\" in output.keys():\n",
        "                score = output[\"scores\"][0].cuda()\n",
        "              else:\n",
        "                score = torch.tensor(1).cuda() if label != torch.tensor(0) else torch.tensor(0).cuda()\n",
        "\n",
        "          boxes.append(box)\n",
        "          scores.append(score)\n",
        "          labels.append(label)\n",
        "\n",
        "      boxes = torch.stack(boxes)\n",
        "      scores = torch.stack(scores)\n",
        "      labels = torch.stack(labels)\n",
        "\n",
        "      return boxes, scores, labels\n",
        "\n",
        "    def post_process_object(scores):\n",
        "        return torch.as_tensor([1 if score > 0.5 else 0 for score in scores])\n",
        "\n",
        "    def post_process_cat_or_dog(labels):\n",
        "        cat_indices = [2, 6, 8]\n",
        "        dog_indices = [1, 3, 4, 5, 7, 9]\n",
        "\n",
        "        def cat_or_dog_classify(label):\n",
        "            if label in cat_indices:\n",
        "                return 0\n",
        "            elif label in dog_indices:\n",
        "                return 1\n",
        "            else:\n",
        "                return 2\n",
        "\n",
        "        return torch.as_tensor([cat_or_dog_classify(label) for label in labels])\n",
        "\n",
        "    def post_process_specie(labels):\n",
        "        # species = [\"background\", \"basset_hound\", \"Birman\", \"pomeranian\", \"american_pit_bull_terrier\", \"american_bulldog\", \"Abyssinian\", \"beagle\", \"Persian\", \"chihuahua\"]\n",
        "\n",
        "        # return [species[label] if label < len(species) else \"background\" for label in labels]\n",
        "        return labels\n",
        "\n",
        "    def post_process_bbox(boxes):\n",
        "        return boxes\n",
        "\n",
        "    val_dataset = CustomDataset(\"/content/assessment_dataset\", images_list=val_list)\n",
        "    val_loader = torch.utils.data.DataLoader(val_dataset, batch_size=4, shuffle=True)\n",
        "\n",
        "    metric_object = None\n",
        "    metric_cat_or_dog = None\n",
        "    metric_specie = None\n",
        "    metric_bbox = None\n",
        "\n",
        "\n",
        "    def create_metrics():\n",
        "        metric_object = torchmetrics.Accuracy(task=\"binary\").cuda()\n",
        "        metric_cat_or_dog = torchmetrics.Accuracy(task=\"multiclass\", num_classes=int(3)).cuda()\n",
        "        metric_specie = torchmetrics.Accuracy(task=\"multiclass\", num_classes=int(9)).cuda()\n",
        "        # metric_bbox = torchmetrics.PrecisionRecall(num_classes=2, average='micro')\n",
        "        metric_bbox = None\n",
        "\n",
        "        return metric_object, metric_cat_or_dog, metric_specie, metric_bbox\n",
        "\n",
        "    metric_object, metric_cat_or_dog, metric_specie, metric_bbox = create_metrics()\n",
        "    model.eval()\n",
        "    for i, data in enumerate(val_loader):\n",
        "        inputs, labels = data\n",
        "\n",
        "        labels = [\n",
        "              dict(\n",
        "                  boxes=labels[\"boxes\"][i].cuda(),\n",
        "                  labels=labels[\"labels\"][i].cuda(),\n",
        "                  image_id=labels[\"image_id\"][i].cuda(),\n",
        "                  area=labels[\"area\"][i].cuda(),\n",
        "                  iscrowd=labels[\"iscrowd\"][i].cuda()\n",
        "              ) for i in range(inputs.shape[0])\n",
        "          ]\n",
        "\n",
        "        # Move inputs and labels to the same device as the model\n",
        "        inputs = inputs.cuda()\n",
        "\n",
        "        # Make predictions for this batch\n",
        "        outputs = model(inputs)\n",
        "        \n",
        "\n",
        "        # Post-process the outputs\n",
        "        boxes, scores, output_labels = post_process(outputs)\n",
        "        lboxes, lscores, llabels = post_process(labels)\n",
        "\n",
        "        predicted_object = post_process_object(scores)\n",
        "        l_object = post_process_object(lscores)\n",
        "        \n",
        "        predicted_cat_or_dog = post_process_cat_or_dog(output_labels)\n",
        "        l_cat_or_dog = post_process_cat_or_dog(llabels)\n",
        "\n",
        "        predicted_specie = post_process_specie(output_labels)\n",
        "        l_specie = post_process_specie(llabels)\n",
        "        # predicted_bbox = post_process_bbox(boxes)\n",
        "\n",
        "        # Update metrics\n",
        "\n",
        "        metric_object.update(predicted_object, l_object)\n",
        "        metric_cat_or_dog.update(predicted_cat_or_dog, l_cat_or_dog)\n",
        "        metric_specie.update(predicted_specie, l_specie)\n",
        "        # metric_bbox.update(predicted_bbox, lboxes)\n",
        "\n",
        "    score_object = metric_object.compute()\n",
        "    score_cat_or_dog = metric_cat_or_dog.compute()\n",
        "    score_specie = metric_specie.compute()\n",
        "    # score_bbox = {\n",
        "    #     \"precision\": metric_bbox.precision(),\n",
        "    #     \"recall\": metric_bbox.recall(),\n",
        "    #     \"f1\": metric_bbox.f1(),\n",
        "    # }\n",
        "\n",
        "    return score_object, score_cat_or_dog, score_specie"
      ]
    },
    {
      "cell_type": "code",
      "source": [
        "train(30)"
      ],
      "metadata": {
        "colab": {
          "base_uri": "https://localhost:8080/"
        },
        "id": "JXFBTyd1y3RT",
        "outputId": "a90c5bac-af30-41b8-8c78-966426dc7735"
      },
      "execution_count": null,
      "outputs": [
        {
          "output_type": "stream",
          "name": "stderr",
          "text": [
            "/usr/local/lib/python3.10/dist-packages/torchvision/models/_utils.py:208: UserWarning: The parameter 'pretrained' is deprecated since 0.13 and may be removed in the future, please use 'weights' instead.\n",
            "  warnings.warn(\n",
            "/usr/local/lib/python3.10/dist-packages/torchvision/models/_utils.py:223: UserWarning: Arguments other than a weight enum or `None` for 'weights' are deprecated since 0.13 and may be removed in the future. The current behavior is equivalent to passing `weights=FasterRCNN_ResNet50_FPN_Weights.COCO_V1`. You can also use `weights=FasterRCNN_ResNet50_FPN_Weights.DEFAULT` to get the most up-to-date weights.\n",
            "  warnings.warn(msg)\n"
          ]
        },
        {
          "output_type": "stream",
          "name": "stdout",
          "text": [
            " Epoch 0 Loss : 0.23440036922693253\n",
            "(tensor(0.1443, device='cuda:0'), tensor(0.9330, device='cuda:0'), tensor(0.3247, device='cuda:0'))\n",
            " Epoch 1 Loss : 0.203994257748127\n",
            "(tensor(0.6289, device='cuda:0'), tensor(0.9175, device='cuda:0'), tensor(0.4639, device='cuda:0'))\n"
          ]
        }
      ]
    },
    {
      "cell_type": "code",
      "source": [
        "model.cuda()\n",
        "test(model, val_list)"
      ],
      "metadata": {
        "colab": {
          "base_uri": "https://localhost:8080/"
        },
        "id": "6IXnTQCIy9Af",
        "outputId": "8872ecc6-bd0d-4e5e-c015-c1a48be872fb"
      },
      "execution_count": 15,
      "outputs": [
        {
          "output_type": "execute_result",
          "data": {
            "text/plain": [
              "(tensor(0.1598, device='cuda:0'),\n",
              " tensor(0.4948, device='cuda:0'),\n",
              " tensor(0.1082, device='cuda:0'))"
            ]
          },
          "metadata": {},
          "execution_count": 15
        }
      ]
    },
    {
      "cell_type": "code",
      "source": [
        "from PIL import Image, ImageDraw\n",
        "\n",
        "def visualize(model_weights, image_folder_path, output_folder=\"output\"):\n",
        "    model = Model()\n",
        "    model.load_state_dict(torch.load(model_weights))\n",
        "\n",
        "    try:\n",
        "        image = Image.open(os.path.join(image_folder_path, image_name + \".jpg\"))\n",
        "    except:\n",
        "        image = Image.open(os.path.join(image_folder_path, image_name + \".jpeg\"))\n",
        "\n",
        "    preprocess = None\n",
        "    outputs = model(preprocess(image))\n",
        "\n",
        "    image_draw = image.copy()\n",
        "    draw = ImageDraw.Draw(image_draw)\n",
        "\n",
        "    boxes, scores, labels = post_process(outputs)\n",
        "\n",
        "    for box in boxes:\n",
        "        draw.rectangle(box.tolist(), outline=\"red\", width=2)\n",
        "\n",
        "    image_draw.save(os.path.join(output_folder, image_name + \"_output.jpg\"))\n",
        "\n",
        "    return {}"
      ],
      "metadata": {
        "id": "Il0zcsOG-Ac9"
      },
      "execution_count": null,
      "outputs": []
    }
  ],
  "metadata": {
    "accelerator": "GPU",
    "colab": {
      "provenance": []
    },
    "gpuClass": "standard",
    "kernelspec": {
      "display_name": "Python 3",
      "name": "python3"
    },
    "language_info": {
      "name": "python"
    }
  },
  "nbformat": 4,
  "nbformat_minor": 0
}